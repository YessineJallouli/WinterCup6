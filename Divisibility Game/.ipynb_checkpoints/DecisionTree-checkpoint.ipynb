{
 "cells": [
  {
   "cell_type": "code",
   "execution_count": 252,
   "id": "b3f15bb2-ade6-4360-ba2b-08cce2906695",
   "metadata": {},
   "outputs": [],
   "source": [
    "import numpy as np\n",
    "import pandas as pd\n",
    "import matplotlib.pyplot as plt\n",
    "import re"
   ]
  },
  {
   "cell_type": "code",
   "execution_count": 256,
   "id": "50c26911-638c-42a4-8f7f-448d7fd573d8",
   "metadata": {},
   "outputs": [],
   "source": [
    "def read_output(filename,ragged=False,even_features=False):\n",
    "    U=[]\n",
    "    G=[]\n",
    "    with open(filename) as file:\n",
    "        L=file.readlines()\n",
    "        for l in L:\n",
    "            m = re.match(R\"\\[((?:\\d,)+)\\]: (\\d)\",l)\n",
    "            if m:\n",
    "                S=m.group(1)\n",
    "                U.append(np.fromstring(S,dtype=np.int32,sep=','))\n",
    "                G.append(int(m.group(2)))\n",
    "    G=np.array(G)\n",
    "    X=pd.DataFrame()\n",
    "    if ragged:\n",
    "        X[\"n\"]=list(map(np.sum,U))\n",
    "        X[\"n mod 2\"] = X[\"n\"] % 2\n",
    "        X[\"C[0]\"] = list(map(lambda x:x[0],U))\n",
    "        X[\"C[0]==n-2\"] =  X[\"C[0]\"] == X[\"n\"] -2\n",
    "        X[\"C[0]==n+0\"] =  X[\"C[0]\"] == X[\"n\"]\n",
    "        if even_features:\n",
    "            X[\"C[K/2]\"] = list(map(lambda x:x[len(x)//2],U))\n",
    "            X[\"C[K/2] mod 2\"] = X[\"C[K/2]\"] %2\n",
    "            X[\"C[K/2]==n-2\"] = X[\"C[K/2]\"] == X[\"n\"] -2\n",
    "            X[\"C[K/2]==n\"] = X[\"C[K/2]\"] == X[\"n\"] \n",
    "            X[\"C[K/2]==n/2\"] = X[\"C[K/2]\"] == X[\"n\"] //2\n",
    "            X[\"C[K/2]==0\"] = X[\"C[K/2]\"] == 0\n",
    "    else:\n",
    "        U=np.stack(U)\n",
    "        X[\"n\"]=np.sum(U,axis=-1)\n",
    "        X[\"n mod 2\"] = X[\"n\"] % 2\n",
    "        X[\"C[0]\"] = U[:,0]\n",
    "        X[\"C[0] == n-2\"] = U[:,0] == X[\"n\"] -2\n",
    "        X[\"C[0] == n\"] = U[:,0] == X[\"n\"]\n",
    "        if U.shape[1] % 2==0:\n",
    "            X[\"C[K/2]\"] = U[:,U.shape[1]//2]\n",
    "            X[\"C[K/2] mod 2\"] = X[\"C[K/2]\"] %2\n",
    "            X[\"C[K/2] == n-2\"] = X[\"C[K/2]\"] == X[\"n\"] -2\n",
    "            X[\"C[K/2] == n\"] = X[\"C[K/2]\"] == X[\"n\"] \n",
    "            X[\"C[K/2] == n/2\"] = X[\"C[K/2]\"] == X[\"n\"] //2\n",
    "    return U,X,G\n",
    "U,X,G=read_output(\"output.txt\",ragged=True,even_features=True)\n",
    "D=X.copy()\n",
    "D[\"G\"]=G"
   ]
  },
  {
   "cell_type": "code",
   "execution_count": 254,
   "id": "7f5f3ade-e7ab-4d14-bf8d-e25a50af7459",
   "metadata": {},
   "outputs": [
    {
     "data": {
      "text/html": [
       "<style>#sk-container-id-47 {color: black;background-color: white;}#sk-container-id-47 pre{padding: 0;}#sk-container-id-47 div.sk-toggleable {background-color: white;}#sk-container-id-47 label.sk-toggleable__label {cursor: pointer;display: block;width: 100%;margin-bottom: 0;padding: 0.3em;box-sizing: border-box;text-align: center;}#sk-container-id-47 label.sk-toggleable__label-arrow:before {content: \"▸\";float: left;margin-right: 0.25em;color: #696969;}#sk-container-id-47 label.sk-toggleable__label-arrow:hover:before {color: black;}#sk-container-id-47 div.sk-estimator:hover label.sk-toggleable__label-arrow:before {color: black;}#sk-container-id-47 div.sk-toggleable__content {max-height: 0;max-width: 0;overflow: hidden;text-align: left;background-color: #f0f8ff;}#sk-container-id-47 div.sk-toggleable__content pre {margin: 0.2em;color: black;border-radius: 0.25em;background-color: #f0f8ff;}#sk-container-id-47 input.sk-toggleable__control:checked~div.sk-toggleable__content {max-height: 200px;max-width: 100%;overflow: auto;}#sk-container-id-47 input.sk-toggleable__control:checked~label.sk-toggleable__label-arrow:before {content: \"▾\";}#sk-container-id-47 div.sk-estimator input.sk-toggleable__control:checked~label.sk-toggleable__label {background-color: #d4ebff;}#sk-container-id-47 div.sk-label input.sk-toggleable__control:checked~label.sk-toggleable__label {background-color: #d4ebff;}#sk-container-id-47 input.sk-hidden--visually {border: 0;clip: rect(1px 1px 1px 1px);clip: rect(1px, 1px, 1px, 1px);height: 1px;margin: -1px;overflow: hidden;padding: 0;position: absolute;width: 1px;}#sk-container-id-47 div.sk-estimator {font-family: monospace;background-color: #f0f8ff;border: 1px dotted black;border-radius: 0.25em;box-sizing: border-box;margin-bottom: 0.5em;}#sk-container-id-47 div.sk-estimator:hover {background-color: #d4ebff;}#sk-container-id-47 div.sk-parallel-item::after {content: \"\";width: 100%;border-bottom: 1px solid gray;flex-grow: 1;}#sk-container-id-47 div.sk-label:hover label.sk-toggleable__label {background-color: #d4ebff;}#sk-container-id-47 div.sk-serial::before {content: \"\";position: absolute;border-left: 1px solid gray;box-sizing: border-box;top: 0;bottom: 0;left: 50%;z-index: 0;}#sk-container-id-47 div.sk-serial {display: flex;flex-direction: column;align-items: center;background-color: white;padding-right: 0.2em;padding-left: 0.2em;position: relative;}#sk-container-id-47 div.sk-item {position: relative;z-index: 1;}#sk-container-id-47 div.sk-parallel {display: flex;align-items: stretch;justify-content: center;background-color: white;position: relative;}#sk-container-id-47 div.sk-item::before, #sk-container-id-47 div.sk-parallel-item::before {content: \"\";position: absolute;border-left: 1px solid gray;box-sizing: border-box;top: 0;bottom: 0;left: 50%;z-index: -1;}#sk-container-id-47 div.sk-parallel-item {display: flex;flex-direction: column;z-index: 1;position: relative;background-color: white;}#sk-container-id-47 div.sk-parallel-item:first-child::after {align-self: flex-end;width: 50%;}#sk-container-id-47 div.sk-parallel-item:last-child::after {align-self: flex-start;width: 50%;}#sk-container-id-47 div.sk-parallel-item:only-child::after {width: 0;}#sk-container-id-47 div.sk-dashed-wrapped {border: 1px dashed gray;margin: 0 0.4em 0.5em 0.4em;box-sizing: border-box;padding-bottom: 0.4em;background-color: white;}#sk-container-id-47 div.sk-label label {font-family: monospace;font-weight: bold;display: inline-block;line-height: 1.2em;}#sk-container-id-47 div.sk-label-container {text-align: center;}#sk-container-id-47 div.sk-container {/* jupyter's `normalize.less` sets `[hidden] { display: none; }` but bootstrap.min.css set `[hidden] { display: none !important; }` so we also need the `!important` here to be able to override the default hidden behavior on the sphinx rendered scikit-learn.org. See: https://github.com/scikit-learn/scikit-learn/issues/21755 */display: inline-block !important;position: relative;}#sk-container-id-47 div.sk-text-repr-fallback {display: none;}</style><div id=\"sk-container-id-47\" class=\"sk-top-container\"><div class=\"sk-text-repr-fallback\"><pre>DecisionTreeClassifier(criterion=&#x27;entropy&#x27;, max_depth=4)</pre><b>In a Jupyter environment, please rerun this cell to show the HTML representation or trust the notebook. <br />On GitHub, the HTML representation is unable to render, please try loading this page with nbviewer.org.</b></div><div class=\"sk-container\" hidden><div class=\"sk-item\"><div class=\"sk-estimator sk-toggleable\"><input class=\"sk-toggleable__control sk-hidden--visually\" id=\"sk-estimator-id-47\" type=\"checkbox\" checked><label for=\"sk-estimator-id-47\" class=\"sk-toggleable__label sk-toggleable__label-arrow\">DecisionTreeClassifier</label><div class=\"sk-toggleable__content\"><pre>DecisionTreeClassifier(criterion=&#x27;entropy&#x27;, max_depth=4)</pre></div></div></div></div></div>"
      ],
      "text/plain": [
       "DecisionTreeClassifier(criterion='entropy', max_depth=4)"
      ]
     },
     "execution_count": 258,
     "metadata": {},
     "output_type": "execute_result"
    }
   ],
   "source": [
    "from sklearn import tree\n",
    "clf = tree.DecisionTreeClassifier(max_depth=4,criterion=\"entropy\")\n",
    "selected_features=[\"C[K/2] mod 2\",\"n mod 2\",\"C[0]==n-2\",\"C[0]==n\"]\n",
    "D=D[D[\"C[K/2]\"]==0]\n",
    "clf.fit(D[selected_features],D[\"G\"])"
   ]
  },
  {
   "cell_type": "code",
   "execution_count": 255,
   "id": "9158c904-4c21-4c25-a88b-518737b67974",
   "metadata": {},
   "outputs": [
    {
     "data": {
      "image/png": "[encoded data removed]",
      "text/plain": [
       "<Figure size 936x576 with 1 Axes>"
      ]
     },
     "metadata": {
      "needs_background": "light"
     },
     "output_type": "display_data"
    }
   ],
   "source": [
    "fig,ax=plt.subplots(1,1,figsize=(13,8))\n",
    "tree.plot_tree(clf,ax=ax,feature_names=X.columns,class_names=[\"0\",\"1\",\"2\"],filled=True,rounded=True)\n",
    "fig.savefig(\"tree.png\",dpi=300)"
   ]
  },
  {
   "cell_type": "code",
   "execution_count": 175,
   "id": "e7841614-d16f-46af-b618-af0e930fff72",
   "metadata": {},
   "outputs": [],
   "source": [
    "mask=(X[\"C[0]\"]<=2) & (X[\"C[0]==n-2\"]) & (X[\"n mod 2\"]==1)"
   ]
  },
  {
   "cell_type": "code",
   "execution_count": 242,
   "id": "27a9bb14-e575-4c45-a584-cf9913290d66",
   "metadata": {},
   "outputs": [
    {
     "data": {
      "text/plain": [
       "0"
      ]
     },
     "execution_count": 242,
     "metadata": {},
     "output_type": "execute_result"
    }
   ],
   "source": []
  },
  {
   "cell_type": "code",
   "execution_count": 177,
   "id": "72200e7e-a90f-4434-80a2-efe5b81331f7",
   "metadata": {},
   "outputs": [
    {
     "data": {
      "text/plain": [
       "array([0, 2, 0, 2, 0, 0])"
      ]
     },
     "execution_count": 177,
     "metadata": {},
     "output_type": "execute_result"
    }
   ],
   "source": [
    "G[mask]"
   ]
  },
  {
   "cell_type": "code",
   "execution_count": 248,
   "id": "f07cdc16-3db7-45c4-a9de-a57033663eff",
   "metadata": {},
   "outputs": [
    {
     "data": {
      "text/html": [
       "<div>\n",
       "<style scoped>\n",
       "    .dataframe tbody tr th:only-of-type {\n",
       "        vertical-align: middle;\n",
       "    }\n",
       "\n",
       "    .dataframe tbody tr th {\n",
       "        vertical-align: top;\n",
       "    }\n",
       "\n",
       "    .dataframe thead th {\n",
       "        text-align: right;\n",
       "    }\n",
       "</style>\n",
       "<table border=\"1\" class=\"dataframe\">\n",
       "  <thead>\n",
       "    <tr style=\"text-align: right;\">\n",
       "      <th></th>\n",
       "      <th>C[K/2] mod 2</th>\n",
       "      <th>n mod 2</th>\n",
       "      <th>C[0]==n-2</th>\n",
       "      <th>C[0]==n</th>\n",
       "    </tr>\n",
       "  </thead>\n",
       "  <tbody>\n",
       "    <tr>\n",
       "      <th>0</th>\n",
       "      <td>0</td>\n",
       "      <td>0</td>\n",
       "      <td>False</td>\n",
       "      <td>False</td>\n",
       "    </tr>\n",
       "    <tr>\n",
       "      <th>1</th>\n",
       "      <td>0</td>\n",
       "      <td>1</td>\n",
       "      <td>False</td>\n",
       "      <td>False</td>\n",
       "    </tr>\n",
       "    <tr>\n",
       "      <th>2</th>\n",
       "      <td>0</td>\n",
       "      <td>0</td>\n",
       "      <td>False</td>\n",
       "      <td>False</td>\n",
       "    </tr>\n",
       "    <tr>\n",
       "      <th>3</th>\n",
       "      <td>0</td>\n",
       "      <td>0</td>\n",
       "      <td>False</td>\n",
       "      <td>False</td>\n",
       "    </tr>\n",
       "    <tr>\n",
       "      <th>4</th>\n",
       "      <td>0</td>\n",
       "      <td>1</td>\n",
       "      <td>False</td>\n",
       "      <td>False</td>\n",
       "    </tr>\n",
       "    <tr>\n",
       "      <th>...</th>\n",
       "      <td>...</td>\n",
       "      <td>...</td>\n",
       "      <td>...</td>\n",
       "      <td>...</td>\n",
       "    </tr>\n",
       "    <tr>\n",
       "      <th>4619</th>\n",
       "      <td>0</td>\n",
       "      <td>1</td>\n",
       "      <td>True</td>\n",
       "      <td>False</td>\n",
       "    </tr>\n",
       "    <tr>\n",
       "      <th>4620</th>\n",
       "      <td>0</td>\n",
       "      <td>1</td>\n",
       "      <td>False</td>\n",
       "      <td>False</td>\n",
       "    </tr>\n",
       "    <tr>\n",
       "      <th>4621</th>\n",
       "      <td>1</td>\n",
       "      <td>0</td>\n",
       "      <td>False</td>\n",
       "      <td>False</td>\n",
       "    </tr>\n",
       "    <tr>\n",
       "      <th>4622</th>\n",
       "      <td>0</td>\n",
       "      <td>1</td>\n",
       "      <td>False</td>\n",
       "      <td>False</td>\n",
       "    </tr>\n",
       "    <tr>\n",
       "      <th>4623</th>\n",
       "      <td>0</td>\n",
       "      <td>1</td>\n",
       "      <td>False</td>\n",
       "      <td>False</td>\n",
       "    </tr>\n",
       "  </tbody>\n",
       "</table>\n",
       "<p>4624 rows × 4 columns</p>\n",
       "</div>"
      ],
      "text/plain": [
       "      C[K/2] mod 2  n mod 2  C[0]==n-2  C[0]==n\n",
       "0                0        0      False    False\n",
       "1                0        1      False    False\n",
       "2                0        0      False    False\n",
       "3                0        0      False    False\n",
       "4                0        1      False    False\n",
       "...            ...      ...        ...      ...\n",
       "4619             0        1       True    False\n",
       "4620             0        1      False    False\n",
       "4621             1        0      False    False\n",
       "4622             0        1      False    False\n",
       "4623             0        1      False    False\n",
       "\n",
       "[4624 rows x 4 columns]"
      ]
     },
     "execution_count": 248,
     "metadata": {},
     "output_type": "execute_result"
    }
   ],
   "source": [
    "X[selected_features]"
   ]
  },
  {
   "cell_type": "code",
   "execution_count": 243,
   "id": "c8772989-8d1f-40bd-b7e4-0b4bae693629",
   "metadata": {},
   "outputs": [
    {
     "data": {
      "text/html": [
       "<div>\n",
       "<style scoped>\n",
       "    .dataframe tbody tr th:only-of-type {\n",
       "        vertical-align: middle;\n",
       "    }\n",
       "\n",
       "    .dataframe tbody tr th {\n",
       "        vertical-align: top;\n",
       "    }\n",
       "\n",
       "    .dataframe thead th {\n",
       "        text-align: right;\n",
       "    }\n",
       "</style>\n",
       "<table border=\"1\" class=\"dataframe\">\n",
       "  <thead>\n",
       "    <tr style=\"text-align: right;\">\n",
       "      <th></th>\n",
       "      <th>C[K/2] mod 2</th>\n",
       "      <th>n mod 2</th>\n",
       "      <th>C[0] == n-2</th>\n",
       "      <th>C[0] == n</th>\n",
       "    </tr>\n",
       "  </thead>\n",
       "  <tbody>\n",
       "    <tr>\n",
       "      <th>0</th>\n",
       "      <td>0</td>\n",
       "      <td>0</td>\n",
       "      <td>False</td>\n",
       "      <td>False</td>\n",
       "    </tr>\n",
       "    <tr>\n",
       "      <th>1</th>\n",
       "      <td>0</td>\n",
       "      <td>1</td>\n",
       "      <td>False</td>\n",
       "      <td>False</td>\n",
       "    </tr>\n",
       "    <tr>\n",
       "      <th>2</th>\n",
       "      <td>0</td>\n",
       "      <td>0</td>\n",
       "      <td>False</td>\n",
       "      <td>False</td>\n",
       "    </tr>\n",
       "    <tr>\n",
       "      <th>3</th>\n",
       "      <td>0</td>\n",
       "      <td>0</td>\n",
       "      <td>False</td>\n",
       "      <td>False</td>\n",
       "    </tr>\n",
       "    <tr>\n",
       "      <th>4</th>\n",
       "      <td>0</td>\n",
       "      <td>1</td>\n",
       "      <td>False</td>\n",
       "      <td>False</td>\n",
       "    </tr>\n",
       "    <tr>\n",
       "      <th>...</th>\n",
       "      <td>...</td>\n",
       "      <td>...</td>\n",
       "      <td>...</td>\n",
       "      <td>...</td>\n",
       "    </tr>\n",
       "    <tr>\n",
       "      <th>4619</th>\n",
       "      <td>0</td>\n",
       "      <td>1</td>\n",
       "      <td>True</td>\n",
       "      <td>False</td>\n",
       "    </tr>\n",
       "    <tr>\n",
       "      <th>4620</th>\n",
       "      <td>0</td>\n",
       "      <td>1</td>\n",
       "      <td>False</td>\n",
       "      <td>False</td>\n",
       "    </tr>\n",
       "    <tr>\n",
       "      <th>4621</th>\n",
       "      <td>1</td>\n",
       "      <td>0</td>\n",
       "      <td>False</td>\n",
       "      <td>False</td>\n",
       "    </tr>\n",
       "    <tr>\n",
       "      <th>4622</th>\n",
       "      <td>0</td>\n",
       "      <td>1</td>\n",
       "      <td>False</td>\n",
       "      <td>False</td>\n",
       "    </tr>\n",
       "    <tr>\n",
       "      <th>4623</th>\n",
       "      <td>0</td>\n",
       "      <td>1</td>\n",
       "      <td>False</td>\n",
       "      <td>False</td>\n",
       "    </tr>\n",
       "  </tbody>\n",
       "</table>\n",
       "<p>4624 rows × 4 columns</p>\n",
       "</div>"
      ],
      "text/plain": [
       "      C[K/2] mod 2  n mod 2  C[0] == n-2  C[0] == n\n",
       "0                0        0        False      False\n",
       "1                0        1        False      False\n",
       "2                0        0        False      False\n",
       "3                0        0        False      False\n",
       "4                0        1        False      False\n",
       "...            ...      ...          ...        ...\n",
       "4619             0        1         True      False\n",
       "4620             0        1        False      False\n",
       "4621             1        0        False      False\n",
       "4622             0        1        False      False\n",
       "4623             0        1        False      False\n",
       "\n",
       "[4624 rows x 4 columns]"
      ]
     },
     "execution_count": 243,
     "metadata": {},
     "output_type": "execute_result"
    }
   ],
   "source": []
  },
  {
   "cell_type": "code",
   "execution_count": null,
   "id": "5f3b4d7c-d0ce-41fc-aa8b-bede5c49a2ac",
   "metadata": {},
   "outputs": [],
   "source": []
  }
 ],
 "metadata": {
  "kernelspec": {
   "display_name": "Python 3 (ipykernel)",
   "language": "python",
   "name": "python3"
  },
  "language_info": {
   "codemirror_mode": {
    "name": "ipython",
    "version": 3
   },
   "file_extension": ".py",
   "mimetype": "text/x-python",
   "name": "python",
   "nbconvert_exporter": "python",
   "pygments_lexer": "ipython3",
   "version": "3.9.16"
  }
 },
 "nbformat": 4,
 "nbformat_minor": 5
}
