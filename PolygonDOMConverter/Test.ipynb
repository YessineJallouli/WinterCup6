{
 "cells": [
  {
   "cell_type": "code",
   "execution_count": 57,
   "id": "initial_id",
   "metadata": {
    "collapsed": true,
    "ExecuteTime": {
     "end_time": "2024-02-11T01:33:17.535243396Z",
     "start_time": "2024-02-11T01:33:17.492037559Z"
    }
   },
   "outputs": [],
   "source": [
    "from bs4 import BeautifulSoup\n",
    "import bs4\n",
    "\n",
    "statement_path=\"WCP/sprinting/problem.html\"\n",
    "with open(statement_path, \"r\") as f:\n",
    "    soup = BeautifulSoup(f, \"html.parser\")"
   ]
  },
  {
   "cell_type": "code",
   "outputs": [],
   "source": [
    "result=soup.find(\"link\",attrs={\"href\":\"problem-statement.css\"})\n",
    "if result is not None:\n",
    "    result.attrs[\"href\"]=\"/css/problem-statement.css\""
   ],
   "metadata": {
    "collapsed": false,
    "ExecuteTime": {
     "end_time": "2024-02-11T01:40:18.715080997Z",
     "start_time": "2024-02-11T01:40:18.706957143Z"
    }
   },
   "id": "f6b59e1fa88610c4",
   "execution_count": 70
  },
  {
   "cell_type": "code",
   "outputs": [
    {
     "data": {
      "text/plain": "<link href=\"/css/problem-statement.css\" rel=\"stylesheet\" type=\"text/css\"/>"
     },
     "execution_count": 47,
     "metadata": {},
     "output_type": "execute_result"
    }
   ],
   "source": [],
   "metadata": {
    "collapsed": false,
    "ExecuteTime": {
     "end_time": "2024-02-11T01:28:50.351504015Z",
     "start_time": "2024-02-11T01:28:50.344988324Z"
    }
   },
   "id": "a3ead89bc4f1097",
   "execution_count": 47
  },
  {
   "cell_type": "code",
   "outputs": [],
   "source": [
    "for script in soup.findAll(\"script\"):\n",
    "    script.decompose()\n",
    "math_jax_script=soup.new_tag(name=\"script\",src=\"/mathjax/tex-chtml.js\",id=\"MathJax-script\")\n",
    "math_jax_script[\"async\"]=\"\"\n",
    "math_jax_config_script=soup.new_tag(name=\"script\")\n",
    "math_jax_config_script.string=\"\"\"\n",
    "        MathJax = {\n",
    "   tex: {\n",
    "     inlineMath: [['$$$', '$$$'], ['\\\\(', '\\\\)']],\n",
    "     displayMath: [['$$$$$$','$$$$$$']]\n",
    "   },\n",
    "   svg: {\n",
    "     fontCache: 'global'\n",
    "   }\n",
    " };\n",
    "\"\"\"\n",
    "soup.head.append(math_jax_config_script)\n",
    "soup.head.append(math_jax_script)"
   ],
   "metadata": {
    "collapsed": false,
    "ExecuteTime": {
     "end_time": "2024-02-11T01:36:13.765267674Z",
     "start_time": "2024-02-11T01:36:13.724595535Z"
    }
   },
   "id": "cddf29c6969824c0",
   "execution_count": 65
  },
  {
   "cell_type": "code",
   "outputs": [],
   "source": [
    "with open(\"WCP/sprinting/problem.html\", \"w\") as f:\n",
    "    f.write(str(soup))"
   ],
   "metadata": {
    "collapsed": false,
    "ExecuteTime": {
     "end_time": "2024-02-11T01:37:33.577903106Z",
     "start_time": "2024-02-11T01:37:33.533519607Z"
    }
   },
   "id": "23b7849bfcbd24df",
   "execution_count": 68
  },
  {
   "cell_type": "code",
   "outputs": [],
   "source": [
    "import time\n",
    "def current_time_iso_8601():\n",
    "    return time.strftime(\"%Y-%m-%dT%H:%M:%S\", time.localtime())\n",
    "\n",
    "new_meta=soup.new_tag(\"meta\")\n",
    "new_meta.attrs[\"data-patch-time\"]=current_time_iso_8601()\n",
    "soup.head.append(new_meta)"
   ],
   "metadata": {
    "collapsed": false,
    "ExecuteTime": {
     "end_time": "2024-02-11T02:32:02.292487498Z",
     "start_time": "2024-02-11T02:32:02.251485551Z"
    }
   },
   "id": "35592ace83d45361",
   "execution_count": 75
  },
  {
   "cell_type": "code",
   "outputs": [
    {
     "data": {
      "text/plain": "<script async=\"\" id=\"MathJax-script\" src=\"/mathjax/tex-chtml.js\"></script>"
     },
     "execution_count": 62,
     "metadata": {},
     "output_type": "execute_result"
    }
   ],
   "source": [
    "math_jax_script"
   ],
   "metadata": {
    "collapsed": false,
    "ExecuteTime": {
     "end_time": "2024-02-11T01:34:10.194023395Z",
     "start_time": "2024-02-11T01:34:10.188480033Z"
    }
   },
   "id": "5cffadf5552fcee2",
   "execution_count": 62
  },
  {
   "cell_type": "code",
   "outputs": [
    {
     "data": {
      "text/plain": "<head><meta content=\"text/html; charset=utf-8\" http-equiv=\"Content-Type\"/>\n<meta content=\"no-cache\" http-equiv=\"pragma\"/>\n<meta content=\"-1\" http-equiv=\"expires\"/>\n<meta content=\"text/html;charset=utf-8\" http-equiv=\"content-type\"/>\n<link href=\"/css/problem-statement.css\" rel=\"stylesheet\" type=\"text/css\"/>\n<title>Sprinting</title>\n\n\n<script async=\"\" id=\"MathJax-script\" src=\"/mathjax/tex-chtml.js\"></script><script>\n        MathJax = {\n   tex: {\n     inlineMath: [['$$$', '$$$'], ['\\(', '\\)']],\n     displayMath: [['$$$$$$','$$$$$$']]\n   },\n   svg: {\n     fontCache: 'global'\n   }\n };\n</script><meta data-patched=\"\"/><meta data-patch-time=\"2024-02-11T03:32:02\"/></head>"
     },
     "execution_count": 76,
     "metadata": {},
     "output_type": "execute_result"
    }
   ],
   "source": [
    "soup.head"
   ],
   "metadata": {
    "collapsed": false,
    "ExecuteTime": {
     "end_time": "2024-02-11T02:32:04.346518937Z",
     "start_time": "2024-02-11T02:32:04.332744671Z"
    }
   },
   "id": "7133b27bbb70addc",
   "execution_count": 76
  },
  {
   "cell_type": "code",
   "outputs": [
    {
     "data": {
      "text/plain": "<meta data-patched=\"\"/>"
     },
     "execution_count": 74,
     "metadata": {},
     "output_type": "execute_result"
    }
   ],
   "source": [
    "new_meta"
   ],
   "metadata": {
    "collapsed": false,
    "ExecuteTime": {
     "end_time": "2024-02-11T02:28:07.657294467Z",
     "start_time": "2024-02-11T02:28:07.609538300Z"
    }
   },
   "id": "18a08cb21bd15548",
   "execution_count": 74
  },
  {
   "cell_type": "code",
   "outputs": [],
   "source": [],
   "metadata": {
    "collapsed": false
   },
   "id": "2c4cfb826bc0dbbe"
  }
 ],
 "metadata": {
  "kernelspec": {
   "display_name": "Python 3",
   "language": "python",
   "name": "python3"
  },
  "language_info": {
   "codemirror_mode": {
    "name": "ipython",
    "version": 2
   },
   "file_extension": ".py",
   "mimetype": "text/x-python",
   "name": "python",
   "nbconvert_exporter": "python",
   "pygments_lexer": "ipython2",
   "version": "2.7.6"
  }
 },
 "nbformat": 4,
 "nbformat_minor": 5
}
